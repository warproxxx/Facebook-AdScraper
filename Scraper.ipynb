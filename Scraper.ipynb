{
 "cells": [
  {
   "cell_type": "code",
   "execution_count": 1,
   "metadata": {},
   "outputs": [
    {
     "name": "stderr",
     "output_type": "stream",
     "text": [
      "C:\\Users\\BITT Server\\Anaconda3\\lib\\site-packages\\nltk\\twitter\\__init__.py:20: UserWarning: The twython library has not been installed. Some functionality from the twitter package will not be available.\n",
      "  warnings.warn(\"The twython library has not been installed. \"\n"
     ]
    }
   ],
   "source": [
    "from selenium import webdriver\n",
    "from selenium.webdriver.common.keys import Keys\n",
    "from selenium.webdriver.support import expected_conditions as EC\n",
    "from selenium.webdriver.common.by import By\n",
    "from selenium.webdriver.common.action_chains import ActionChains\n",
    "from selenium.webdriver.support.ui import Select, WebDriverWait\n",
    "from selenium.common.exceptions import TimeoutException\n",
    "\n",
    "from bs4 import BeautifulSoup, Comment\n",
    "import re\n",
    "import pandas as pd\n",
    "import os\n",
    "\n",
    "from urllib.parse import urlparse, parse_qs\n",
    "import os.path\n",
    "\n",
    "import time\n",
    "\n",
    "import nltk\n",
    "from nltk import sentiment, word_tokenize, pos_tag, ne_chunk\n",
    "from nltk.corpus import opinion_lexicon\n",
    "from nltk.tokenize import treebank"
   ]
  },
  {
   "cell_type": "code",
   "execution_count": 15,
   "metadata": {},
   "outputs": [
    {
     "name": "stdout",
     "output_type": "stream",
     "text": [
      "[nltk_data] Downloading package opinion_lexicon to C:\\Users\\BITT\n",
      "[nltk_data]     Server\\AppData\\Roaming\\nltk_data...\n",
      "[nltk_data]   Unzipping corpora\\opinion_lexicon.zip.\n"
     ]
    },
    {
     "data": {
      "text/plain": [
       "True"
      ]
     },
     "execution_count": 15,
     "metadata": {},
     "output_type": "execute_result"
    }
   ],
   "source": [
    "# nltk.download('maxent_ne_chunker')\n",
    "# nltk.download('averaged_perceptron_tagger')\n",
    "# nltk.download('punkt')\n",
    "# nltk.download('words')\n",
    "# nltk.download('opinion_lexicon')"
   ]
  },
  {
   "cell_type": "code",
   "execution_count": 33,
   "metadata": {},
   "outputs": [],
   "source": [
    "def load_facebook():\n",
    "    url = \"https://facebook.com\"\n",
    "    driver = webdriver.Firefox()\n",
    "    driver.get(url)\n",
    "    driver.find_element_by_id('email').send_keys('email')\n",
    "    driver.find_element_by_id('pass').send_keys('password')\n",
    "    driver.find_element_by_id('pass').send_keys(Keys.ENTER)\n",
    "    \n",
    "    try:\n",
    "        elem = WebDriverWait(driver, 2).until(EC.title_contains(\"Facebook\"))\n",
    "    except TimeoutException:\n",
    "        print(\"Too much time\")\n",
    "    \n",
    "    return driver\n",
    "\n",
    "def get_nltk_sentiment(sentence, method):\n",
    "        \n",
    "    if (method == 'vader'):\n",
    "        sa = sentiment.vader.SentimentIntensityAnalyzer()\n",
    "        output = sa.polarity_scores(str(sentence))\n",
    "\n",
    "        return output['compound']\n",
    "    elif (method == 'liu'):\n",
    "        #if name, return positive\n",
    "        \n",
    "        if \"PERSON\" in str(ne_chunk(pos_tag(word_tokenize(\"hey pretty cool\")))):\n",
    "            return 'Positive'\n",
    "        \n",
    "        tokenizer = treebank.TreebankWordTokenizer()\n",
    "        pos_words = 0\n",
    "        neg_words = 0\n",
    "        tokenized_sent = [word.lower() for word in tokenizer.tokenize(sentence)]\n",
    "        \n",
    "        for word in tokenized_sent:\n",
    "            if word in opinion_lexicon.positive():\n",
    "                pos_words += 1\n",
    "            elif word in opinion_lexicon.negative():\n",
    "                neg_words += 1\n",
    "        if pos_words > neg_words:\n",
    "            return 'Positive'\n",
    "        elif pos_words < neg_words:\n",
    "            return 'Negative'\n",
    "        elif pos_words == neg_words:\n",
    "            return 'Neutral'\n",
    "\n",
    "def get_comments(url, driver):\n",
    "    \n",
    "    pagePath = urlparse(url).path\n",
    "    pName = pagePath.split(\"/\")[1]\n",
    "    \n",
    "    driver.get(url)\n",
    "    \n",
    "    try:\n",
    "        elem = WebDriverWait(driver, 2).until(EC.presence_of_element_located((By.CLASS_NAME, \"fbPhotoSnowliftContainer\")))\n",
    "    except TimeoutException:\n",
    "        print(\"Too much time\")\n",
    "    \n",
    "    while True:\n",
    "        time.sleep(2)\n",
    "        \n",
    "        try:\n",
    "            driver.find_elements_by_xpath(\"(//a[contains(text(),'View more comments')])\")[3].click()\n",
    "        except:\n",
    "            break\n",
    "            \n",
    "    html = driver.page_source\n",
    "\n",
    "    soup = BeautifulSoup(html, \"lxml\")\n",
    "\n",
    "    comments = soup.find_all(\"div\", class_=\"UFICommentContent\")\n",
    "\n",
    "    df = pd.DataFrame(columns=['Comment', 'Profile URL'])\n",
    "\n",
    "    for comment in comments:\n",
    "        body = comment.find(\"span\", class_=\"UFICommentBody\").getText()\n",
    "        currURL = comment.find('a', href=True)['href']\n",
    "        \n",
    "        if (currURL.find(pName) == -1):   \n",
    "            df = df.append({'Comment': body, 'Profile URL': currURL}, ignore_index=True)\n",
    "            \n",
    "\n",
    "    return df\n",
    "\n",
    "def get_positive(url, driver):\n",
    "    df = get_comments(url, driver)\n",
    "    df['Sentiment'] = df['Comment'].apply(get_nltk_sentiment, method=\"liu\")\n",
    "    newDf = df[df['Sentiment'] == 'Positive'].drop_duplicates('Profile URL', keep='first')\n",
    "    \n",
    "    newDf = newDf.reset_index(drop=True)\n",
    "    return newDf\n",
    "\n",
    "def get_id(text):\n",
    "    parsed = urlparse(text)\n",
    "    parsed_dict = parse_qs(parsed.query)\n",
    "    userId = parsed_dict['id']\n",
    "\n",
    "    return userId[0]\n",
    "\n",
    "def get_userid(url, driver):\n",
    "    ret_id = ''\n",
    "    \n",
    "    if (\"profile.php?id=\" in url):\n",
    "        ret_id = get_id(url)\n",
    "    else:\n",
    "        driver.get(url)\n",
    "        time.sleep(4)\n",
    "\n",
    "        try:\n",
    "            elem = WebDriverWait(driver, 2).until(EC.presence_of_element_located((By.CLASS_NAME, 'hidden_elem')))\n",
    "        except TimeoutException:\n",
    "            print(\"Too much time\")\n",
    "\n",
    "        html = driver.page_source\n",
    "        soup = BeautifulSoup(html, \"lxml\")\n",
    "\n",
    "        userId = ''\n",
    "\n",
    "        for aVals in soup.find_all('a'):\n",
    "            try:\n",
    "                text = aVals['data-hovercard']\n",
    "                ret_id = get_id(text)\n",
    "                \n",
    "                if (\"/ajax/hovercard/user.php?id={}\".format(ret_id) in text):\n",
    "                    print(text)\n",
    "                    break\n",
    "            except:\n",
    "                pass\n",
    "            \n",
    "    return ret_id"
   ]
  },
  {
   "cell_type": "code",
   "execution_count": 13,
   "metadata": {},
   "outputs": [],
   "source": [
    "driver = load_facebook()"
   ]
  },
  {
   "cell_type": "code",
   "execution_count": 16,
   "metadata": {},
   "outputs": [],
   "source": [
    "df = get_positive('https://www.facebook.com/promisedlanddairy/photos/a.328814060485906.84135.179461015421212/1896136953753601/?type=3&theater', driver)"
   ]
  },
  {
   "cell_type": "code",
   "execution_count": 20,
   "metadata": {
    "scrolled": true
   },
   "outputs": [
    {
     "name": "stdout",
     "output_type": "stream",
     "text": [
      "/ajax/hovercard/user.php?id=100000670838598\n",
      "/ajax/hovercard/user.php?id=539392911\n",
      "/ajax/hovercard/user.php?id=1684836462\n",
      "/ajax/hovercard/user.php?id=1235595588\n",
      "/ajax/hovercard/user.php?id=1075832673\n",
      "/ajax/hovercard/user.php?id=100009881200476\n",
      "/ajax/hovercard/user.php?id=100006415140770\n",
      "/ajax/hovercard/user.php?id=100006221528948\n",
      "/ajax/hovercard/user.php?id=100000569083610\n",
      "/ajax/hovercard/user.php?id=100005646499164\n",
      "/ajax/hovercard/user.php?id=100022698270187\n",
      "/ajax/hovercard/user.php?id=1492300824\n",
      "/ajax/hovercard/user.php?id=1381142216\n",
      "/ajax/hovercard/user.php?id=100014470786149\n",
      "/ajax/hovercard/user.php?id=100000879078278&extragetparams=%7B%22timeline_context_item_type%22%3A%22intro_card_relationship%22%2C%22timeline_context_item_source%22%3A1425584277%7D\n",
      "/ajax/hovercard/user.php?id=100000245268913\n",
      "/ajax/hovercard/user.php?id=100024712938956\n",
      "/ajax/hovercard/user.php?id=100007430049121\n",
      "/ajax/hovercard/user.php?id=100010714891532\n",
      "/ajax/hovercard/user.php?id=100011607617432\n",
      "/ajax/hovercard/user.php?id=100006730232842\n",
      "/ajax/hovercard/user.php?id=1400800212\n",
      "/ajax/hovercard/user.php?id=1670690010\n",
      "/ajax/hovercard/user.php?id=100005816434760\n",
      "/ajax/hovercard/user.php?id=100011991467981\n",
      "/ajax/hovercard/user.php?id=1328913819\n",
      "/ajax/hovercard/user.php?id=100001525703560\n"
     ]
    },
    {
     "ename": "KeyboardInterrupt",
     "evalue": "",
     "output_type": "error",
     "traceback": [
      "\u001b[1;31m---------------------------------------------------------------------------\u001b[0m",
      "\u001b[1;31mKeyboardInterrupt\u001b[0m                         Traceback (most recent call last)",
      "\u001b[1;32m<ipython-input-20-0d8741437326>\u001b[0m in \u001b[0;36m<module>\u001b[1;34m()\u001b[0m\n\u001b[0;32m      2\u001b[0m \u001b[1;33m\u001b[0m\u001b[0m\n\u001b[0;32m      3\u001b[0m \u001b[1;32mfor\u001b[0m \u001b[0midx\u001b[0m\u001b[1;33m,\u001b[0m \u001b[0mrow\u001b[0m \u001b[1;32min\u001b[0m \u001b[0mdf\u001b[0m\u001b[1;33m.\u001b[0m\u001b[0miterrows\u001b[0m\u001b[1;33m(\u001b[0m\u001b[1;33m)\u001b[0m\u001b[1;33m:\u001b[0m\u001b[1;33m\u001b[0m\u001b[0m\n\u001b[1;32m----> 4\u001b[1;33m     \u001b[0mdf\u001b[0m\u001b[1;33m.\u001b[0m\u001b[0mloc\u001b[0m\u001b[1;33m[\u001b[0m\u001b[0midx\u001b[0m\u001b[1;33m]\u001b[0m\u001b[1;33m[\u001b[0m\u001b[1;34m'ProfileID'\u001b[0m\u001b[1;33m]\u001b[0m \u001b[1;33m=\u001b[0m \u001b[0mget_userid\u001b[0m\u001b[1;33m(\u001b[0m\u001b[0mrow\u001b[0m\u001b[1;33m[\u001b[0m\u001b[1;34m'Profile URL'\u001b[0m\u001b[1;33m]\u001b[0m\u001b[1;33m,\u001b[0m \u001b[0mdriver\u001b[0m\u001b[1;33m)\u001b[0m\u001b[1;33m\u001b[0m\u001b[0m\n\u001b[0m",
      "\u001b[1;32m<ipython-input-19-c7e9ddc49adf>\u001b[0m in \u001b[0;36mget_userid\u001b[1;34m(url, driver)\u001b[0m\n\u001b[0;32m    103\u001b[0m         \u001b[0mret_id\u001b[0m \u001b[1;33m=\u001b[0m \u001b[0mget_id\u001b[0m\u001b[1;33m(\u001b[0m\u001b[0murl\u001b[0m\u001b[1;33m)\u001b[0m\u001b[1;33m\u001b[0m\u001b[0m\n\u001b[0;32m    104\u001b[0m     \u001b[1;32melse\u001b[0m\u001b[1;33m:\u001b[0m\u001b[1;33m\u001b[0m\u001b[0m\n\u001b[1;32m--> 105\u001b[1;33m         \u001b[0mdriver\u001b[0m\u001b[1;33m.\u001b[0m\u001b[0mget\u001b[0m\u001b[1;33m(\u001b[0m\u001b[0murl\u001b[0m\u001b[1;33m)\u001b[0m\u001b[1;33m\u001b[0m\u001b[0m\n\u001b[0m\u001b[0;32m    106\u001b[0m \u001b[1;33m\u001b[0m\u001b[0m\n\u001b[0;32m    107\u001b[0m         \u001b[1;32mtry\u001b[0m\u001b[1;33m:\u001b[0m\u001b[1;33m\u001b[0m\u001b[0m\n",
      "\u001b[1;32m~\\Anaconda3\\lib\\site-packages\\selenium\\webdriver\\remote\\webdriver.py\u001b[0m in \u001b[0;36mget\u001b[1;34m(self, url)\u001b[0m\n\u001b[0;32m    322\u001b[0m         \u001b[0mLoads\u001b[0m \u001b[0ma\u001b[0m \u001b[0mweb\u001b[0m \u001b[0mpage\u001b[0m \u001b[1;32min\u001b[0m \u001b[0mthe\u001b[0m \u001b[0mcurrent\u001b[0m \u001b[0mbrowser\u001b[0m \u001b[0msession\u001b[0m\u001b[1;33m.\u001b[0m\u001b[1;33m\u001b[0m\u001b[0m\n\u001b[0;32m    323\u001b[0m         \"\"\"\n\u001b[1;32m--> 324\u001b[1;33m         \u001b[0mself\u001b[0m\u001b[1;33m.\u001b[0m\u001b[0mexecute\u001b[0m\u001b[1;33m(\u001b[0m\u001b[0mCommand\u001b[0m\u001b[1;33m.\u001b[0m\u001b[0mGET\u001b[0m\u001b[1;33m,\u001b[0m \u001b[1;33m{\u001b[0m\u001b[1;34m'url'\u001b[0m\u001b[1;33m:\u001b[0m \u001b[0murl\u001b[0m\u001b[1;33m}\u001b[0m\u001b[1;33m)\u001b[0m\u001b[1;33m\u001b[0m\u001b[0m\n\u001b[0m\u001b[0;32m    325\u001b[0m \u001b[1;33m\u001b[0m\u001b[0m\n\u001b[0;32m    326\u001b[0m     \u001b[1;33m@\u001b[0m\u001b[0mproperty\u001b[0m\u001b[1;33m\u001b[0m\u001b[0m\n",
      "\u001b[1;32m~\\Anaconda3\\lib\\site-packages\\selenium\\webdriver\\remote\\webdriver.py\u001b[0m in \u001b[0;36mexecute\u001b[1;34m(self, driver_command, params)\u001b[0m\n\u001b[0;32m    308\u001b[0m \u001b[1;33m\u001b[0m\u001b[0m\n\u001b[0;32m    309\u001b[0m         \u001b[0mparams\u001b[0m \u001b[1;33m=\u001b[0m \u001b[0mself\u001b[0m\u001b[1;33m.\u001b[0m\u001b[0m_wrap_value\u001b[0m\u001b[1;33m(\u001b[0m\u001b[0mparams\u001b[0m\u001b[1;33m)\u001b[0m\u001b[1;33m\u001b[0m\u001b[0m\n\u001b[1;32m--> 310\u001b[1;33m         \u001b[0mresponse\u001b[0m \u001b[1;33m=\u001b[0m \u001b[0mself\u001b[0m\u001b[1;33m.\u001b[0m\u001b[0mcommand_executor\u001b[0m\u001b[1;33m.\u001b[0m\u001b[0mexecute\u001b[0m\u001b[1;33m(\u001b[0m\u001b[0mdriver_command\u001b[0m\u001b[1;33m,\u001b[0m \u001b[0mparams\u001b[0m\u001b[1;33m)\u001b[0m\u001b[1;33m\u001b[0m\u001b[0m\n\u001b[0m\u001b[0;32m    311\u001b[0m         \u001b[1;32mif\u001b[0m \u001b[0mresponse\u001b[0m\u001b[1;33m:\u001b[0m\u001b[1;33m\u001b[0m\u001b[0m\n\u001b[0;32m    312\u001b[0m             \u001b[0mself\u001b[0m\u001b[1;33m.\u001b[0m\u001b[0merror_handler\u001b[0m\u001b[1;33m.\u001b[0m\u001b[0mcheck_response\u001b[0m\u001b[1;33m(\u001b[0m\u001b[0mresponse\u001b[0m\u001b[1;33m)\u001b[0m\u001b[1;33m\u001b[0m\u001b[0m\n",
      "\u001b[1;32m~\\Anaconda3\\lib\\site-packages\\selenium\\webdriver\\remote\\remote_connection.py\u001b[0m in \u001b[0;36mexecute\u001b[1;34m(self, command, params)\u001b[0m\n\u001b[0;32m    464\u001b[0m         \u001b[0mdata\u001b[0m \u001b[1;33m=\u001b[0m \u001b[0mutils\u001b[0m\u001b[1;33m.\u001b[0m\u001b[0mdump_json\u001b[0m\u001b[1;33m(\u001b[0m\u001b[0mparams\u001b[0m\u001b[1;33m)\u001b[0m\u001b[1;33m\u001b[0m\u001b[0m\n\u001b[0;32m    465\u001b[0m         \u001b[0murl\u001b[0m \u001b[1;33m=\u001b[0m \u001b[1;34m'%s%s'\u001b[0m \u001b[1;33m%\u001b[0m \u001b[1;33m(\u001b[0m\u001b[0mself\u001b[0m\u001b[1;33m.\u001b[0m\u001b[0m_url\u001b[0m\u001b[1;33m,\u001b[0m \u001b[0mpath\u001b[0m\u001b[1;33m)\u001b[0m\u001b[1;33m\u001b[0m\u001b[0m\n\u001b[1;32m--> 466\u001b[1;33m         \u001b[1;32mreturn\u001b[0m \u001b[0mself\u001b[0m\u001b[1;33m.\u001b[0m\u001b[0m_request\u001b[0m\u001b[1;33m(\u001b[0m\u001b[0mcommand_info\u001b[0m\u001b[1;33m[\u001b[0m\u001b[1;36m0\u001b[0m\u001b[1;33m]\u001b[0m\u001b[1;33m,\u001b[0m \u001b[0murl\u001b[0m\u001b[1;33m,\u001b[0m \u001b[0mbody\u001b[0m\u001b[1;33m=\u001b[0m\u001b[0mdata\u001b[0m\u001b[1;33m)\u001b[0m\u001b[1;33m\u001b[0m\u001b[0m\n\u001b[0m\u001b[0;32m    467\u001b[0m \u001b[1;33m\u001b[0m\u001b[0m\n\u001b[0;32m    468\u001b[0m     \u001b[1;32mdef\u001b[0m \u001b[0m_request\u001b[0m\u001b[1;33m(\u001b[0m\u001b[0mself\u001b[0m\u001b[1;33m,\u001b[0m \u001b[0mmethod\u001b[0m\u001b[1;33m,\u001b[0m \u001b[0murl\u001b[0m\u001b[1;33m,\u001b[0m \u001b[0mbody\u001b[0m\u001b[1;33m=\u001b[0m\u001b[1;32mNone\u001b[0m\u001b[1;33m)\u001b[0m\u001b[1;33m:\u001b[0m\u001b[1;33m\u001b[0m\u001b[0m\n",
      "\u001b[1;32m~\\Anaconda3\\lib\\site-packages\\selenium\\webdriver\\remote\\remote_connection.py\u001b[0m in \u001b[0;36m_request\u001b[1;34m(self, method, url, body)\u001b[0m\n\u001b[0;32m    488\u001b[0m             \u001b[1;32mtry\u001b[0m\u001b[1;33m:\u001b[0m\u001b[1;33m\u001b[0m\u001b[0m\n\u001b[0;32m    489\u001b[0m                 \u001b[0mself\u001b[0m\u001b[1;33m.\u001b[0m\u001b[0m_conn\u001b[0m\u001b[1;33m.\u001b[0m\u001b[0mrequest\u001b[0m\u001b[1;33m(\u001b[0m\u001b[0mmethod\u001b[0m\u001b[1;33m,\u001b[0m \u001b[0mparsed_url\u001b[0m\u001b[1;33m.\u001b[0m\u001b[0mpath\u001b[0m\u001b[1;33m,\u001b[0m \u001b[0mbody\u001b[0m\u001b[1;33m,\u001b[0m \u001b[0mheaders\u001b[0m\u001b[1;33m)\u001b[0m\u001b[1;33m\u001b[0m\u001b[0m\n\u001b[1;32m--> 490\u001b[1;33m                 \u001b[0mresp\u001b[0m \u001b[1;33m=\u001b[0m \u001b[0mself\u001b[0m\u001b[1;33m.\u001b[0m\u001b[0m_conn\u001b[0m\u001b[1;33m.\u001b[0m\u001b[0mgetresponse\u001b[0m\u001b[1;33m(\u001b[0m\u001b[1;33m)\u001b[0m\u001b[1;33m\u001b[0m\u001b[0m\n\u001b[0m\u001b[0;32m    491\u001b[0m             \u001b[1;32mexcept\u001b[0m \u001b[1;33m(\u001b[0m\u001b[0mhttplib\u001b[0m\u001b[1;33m.\u001b[0m\u001b[0mHTTPException\u001b[0m\u001b[1;33m,\u001b[0m \u001b[0msocket\u001b[0m\u001b[1;33m.\u001b[0m\u001b[0merror\u001b[0m\u001b[1;33m)\u001b[0m\u001b[1;33m:\u001b[0m\u001b[1;33m\u001b[0m\u001b[0m\n\u001b[0;32m    492\u001b[0m                 \u001b[0mself\u001b[0m\u001b[1;33m.\u001b[0m\u001b[0m_conn\u001b[0m\u001b[1;33m.\u001b[0m\u001b[0mclose\u001b[0m\u001b[1;33m(\u001b[0m\u001b[1;33m)\u001b[0m\u001b[1;33m\u001b[0m\u001b[0m\n",
      "\u001b[1;32m~\\Anaconda3\\lib\\http\\client.py\u001b[0m in \u001b[0;36mgetresponse\u001b[1;34m(self)\u001b[0m\n\u001b[0;32m   1329\u001b[0m         \u001b[1;32mtry\u001b[0m\u001b[1;33m:\u001b[0m\u001b[1;33m\u001b[0m\u001b[0m\n\u001b[0;32m   1330\u001b[0m             \u001b[1;32mtry\u001b[0m\u001b[1;33m:\u001b[0m\u001b[1;33m\u001b[0m\u001b[0m\n\u001b[1;32m-> 1331\u001b[1;33m                 \u001b[0mresponse\u001b[0m\u001b[1;33m.\u001b[0m\u001b[0mbegin\u001b[0m\u001b[1;33m(\u001b[0m\u001b[1;33m)\u001b[0m\u001b[1;33m\u001b[0m\u001b[0m\n\u001b[0m\u001b[0;32m   1332\u001b[0m             \u001b[1;32mexcept\u001b[0m \u001b[0mConnectionError\u001b[0m\u001b[1;33m:\u001b[0m\u001b[1;33m\u001b[0m\u001b[0m\n\u001b[0;32m   1333\u001b[0m                 \u001b[0mself\u001b[0m\u001b[1;33m.\u001b[0m\u001b[0mclose\u001b[0m\u001b[1;33m(\u001b[0m\u001b[1;33m)\u001b[0m\u001b[1;33m\u001b[0m\u001b[0m\n",
      "\u001b[1;32m~\\Anaconda3\\lib\\http\\client.py\u001b[0m in \u001b[0;36mbegin\u001b[1;34m(self)\u001b[0m\n\u001b[0;32m    295\u001b[0m         \u001b[1;31m# read until we get a non-100 response\u001b[0m\u001b[1;33m\u001b[0m\u001b[1;33m\u001b[0m\u001b[0m\n\u001b[0;32m    296\u001b[0m         \u001b[1;32mwhile\u001b[0m \u001b[1;32mTrue\u001b[0m\u001b[1;33m:\u001b[0m\u001b[1;33m\u001b[0m\u001b[0m\n\u001b[1;32m--> 297\u001b[1;33m             \u001b[0mversion\u001b[0m\u001b[1;33m,\u001b[0m \u001b[0mstatus\u001b[0m\u001b[1;33m,\u001b[0m \u001b[0mreason\u001b[0m \u001b[1;33m=\u001b[0m \u001b[0mself\u001b[0m\u001b[1;33m.\u001b[0m\u001b[0m_read_status\u001b[0m\u001b[1;33m(\u001b[0m\u001b[1;33m)\u001b[0m\u001b[1;33m\u001b[0m\u001b[0m\n\u001b[0m\u001b[0;32m    298\u001b[0m             \u001b[1;32mif\u001b[0m \u001b[0mstatus\u001b[0m \u001b[1;33m!=\u001b[0m \u001b[0mCONTINUE\u001b[0m\u001b[1;33m:\u001b[0m\u001b[1;33m\u001b[0m\u001b[0m\n\u001b[0;32m    299\u001b[0m                 \u001b[1;32mbreak\u001b[0m\u001b[1;33m\u001b[0m\u001b[0m\n",
      "\u001b[1;32m~\\Anaconda3\\lib\\http\\client.py\u001b[0m in \u001b[0;36m_read_status\u001b[1;34m(self)\u001b[0m\n\u001b[0;32m    256\u001b[0m \u001b[1;33m\u001b[0m\u001b[0m\n\u001b[0;32m    257\u001b[0m     \u001b[1;32mdef\u001b[0m \u001b[0m_read_status\u001b[0m\u001b[1;33m(\u001b[0m\u001b[0mself\u001b[0m\u001b[1;33m)\u001b[0m\u001b[1;33m:\u001b[0m\u001b[1;33m\u001b[0m\u001b[0m\n\u001b[1;32m--> 258\u001b[1;33m         \u001b[0mline\u001b[0m \u001b[1;33m=\u001b[0m \u001b[0mstr\u001b[0m\u001b[1;33m(\u001b[0m\u001b[0mself\u001b[0m\u001b[1;33m.\u001b[0m\u001b[0mfp\u001b[0m\u001b[1;33m.\u001b[0m\u001b[0mreadline\u001b[0m\u001b[1;33m(\u001b[0m\u001b[0m_MAXLINE\u001b[0m \u001b[1;33m+\u001b[0m \u001b[1;36m1\u001b[0m\u001b[1;33m)\u001b[0m\u001b[1;33m,\u001b[0m \u001b[1;34m\"iso-8859-1\"\u001b[0m\u001b[1;33m)\u001b[0m\u001b[1;33m\u001b[0m\u001b[0m\n\u001b[0m\u001b[0;32m    259\u001b[0m         \u001b[1;32mif\u001b[0m \u001b[0mlen\u001b[0m\u001b[1;33m(\u001b[0m\u001b[0mline\u001b[0m\u001b[1;33m)\u001b[0m \u001b[1;33m>\u001b[0m \u001b[0m_MAXLINE\u001b[0m\u001b[1;33m:\u001b[0m\u001b[1;33m\u001b[0m\u001b[0m\n\u001b[0;32m    260\u001b[0m             \u001b[1;32mraise\u001b[0m \u001b[0mLineTooLong\u001b[0m\u001b[1;33m(\u001b[0m\u001b[1;34m\"status line\"\u001b[0m\u001b[1;33m)\u001b[0m\u001b[1;33m\u001b[0m\u001b[0m\n",
      "\u001b[1;32m~\\Anaconda3\\lib\\socket.py\u001b[0m in \u001b[0;36mreadinto\u001b[1;34m(self, b)\u001b[0m\n\u001b[0;32m    584\u001b[0m         \u001b[1;32mwhile\u001b[0m \u001b[1;32mTrue\u001b[0m\u001b[1;33m:\u001b[0m\u001b[1;33m\u001b[0m\u001b[0m\n\u001b[0;32m    585\u001b[0m             \u001b[1;32mtry\u001b[0m\u001b[1;33m:\u001b[0m\u001b[1;33m\u001b[0m\u001b[0m\n\u001b[1;32m--> 586\u001b[1;33m                 \u001b[1;32mreturn\u001b[0m \u001b[0mself\u001b[0m\u001b[1;33m.\u001b[0m\u001b[0m_sock\u001b[0m\u001b[1;33m.\u001b[0m\u001b[0mrecv_into\u001b[0m\u001b[1;33m(\u001b[0m\u001b[0mb\u001b[0m\u001b[1;33m)\u001b[0m\u001b[1;33m\u001b[0m\u001b[0m\n\u001b[0m\u001b[0;32m    587\u001b[0m             \u001b[1;32mexcept\u001b[0m \u001b[0mtimeout\u001b[0m\u001b[1;33m:\u001b[0m\u001b[1;33m\u001b[0m\u001b[0m\n\u001b[0;32m    588\u001b[0m                 \u001b[0mself\u001b[0m\u001b[1;33m.\u001b[0m\u001b[0m_timeout_occurred\u001b[0m \u001b[1;33m=\u001b[0m \u001b[1;32mTrue\u001b[0m\u001b[1;33m\u001b[0m\u001b[0m\n",
      "\u001b[1;31mKeyboardInterrupt\u001b[0m: "
     ]
    }
   ],
   "source": [
    "df['ProfileID'] = \"\"\n",
    "\n",
    "for idx, row in df.iterrows():\n",
    "    df.loc[idx]['ProfileID'] = get_userid(row['Profile URL'], driver)"
   ]
  },
  {
   "cell_type": "code",
   "execution_count": 21,
   "metadata": {},
   "outputs": [],
   "source": [
    "def scrape_intersection(driver, user1, user2, emptyNo):\n",
    "    url = 'https://www.facebook.com/search/{}/pages-liked/{}/pages-liked/intersect'.format(user1, user2)\n",
    "    driver.get(url)\n",
    "    \n",
    "    series = pd.Series({'User 1': user1, 'User 2': user2, 'Common Interests': []})\n",
    "    \n",
    "    try:\n",
    "        elem = WebDriverWait(driver, 2).until(EC.title_contains(\"Pages liked by\"))\n",
    "    except TimeoutException:\n",
    "        print(\"Too much time\")\n",
    "    \n",
    "    time.sleep(3)\n",
    "\n",
    "    html = driver.page_source\n",
    "    soup = BeautifulSoup(html, \"lxml\")\n",
    "\n",
    "    if \"We couldn\\'t find anything for\" in str(soup):\n",
    "        print(\"No intersect found\")\n",
    "        emptyNo = emptyNo + 1\n",
    "    else:\n",
    "        res = soup.find(\"div\", {\"id\": \"BrowseResultsContainer\"})\n",
    "\n",
    "        links = res.find_all('a')\n",
    "        \n",
    "        linkList = []\n",
    "\n",
    "        for link in links:\n",
    "            if ('facebook.com' in link['href']):\n",
    "                if (link['href'] not in linkList):\n",
    "                    linkList.append(link['href'])\n",
    "                \n",
    "        series['Common Interests'] = linkList\n",
    "\n",
    "        print(series)\n",
    "\n",
    "        emptyNo = -1000\n",
    "                \n",
    "    return series, emptyNo"
   ]
  },
  {
   "cell_type": "code",
   "execution_count": 22,
   "metadata": {},
   "outputs": [],
   "source": [
    "#scrape_intersection(driver, \"100000670838598\", \"100017761387060\", 1)"
   ]
  },
  {
   "cell_type": "code",
   "execution_count": 36,
   "metadata": {},
   "outputs": [],
   "source": [
    "def perform_intersection(df, driver):\n",
    "     \n",
    "    retDf = pd.DataFrame(columns=['User 1', 'User 2', 'Common Interests'])\n",
    "    \n",
    "    for idx, row in df.iterrows():\n",
    "        emptyNo = 0\n",
    "    \n",
    "        for idx1, otherrow in df.iterrows():\n",
    "            if (row['ProfileID'] != otherrow['ProfileID']):\n",
    "\n",
    "                if (emptyNo >= 6):\n",
    "                    print('Breaking because last 6 requests were empty')\n",
    "                    break\n",
    "\n",
    "                series, emptyNo = scrape_intersection(driver, row['ProfileID'], otherrow['ProfileID'], emptyNo)\n",
    "                \n",
    "                retDf = retDf.append(series, ignore_index=True)\n",
    "                      \n",
    "    return retDf"
   ]
  },
  {
   "cell_type": "code",
   "execution_count": 38,
   "metadata": {},
   "outputs": [
    {
     "name": "stdout",
     "output_type": "stream",
     "text": [
      "Common Interests    [https://www.facebook.com/InspiredLifePage/?re...\n",
      "User 1                                                100000670838598\n",
      "User 2                                                100017761387060\n",
      "dtype: object\n",
      "No intersect found\n",
      "No intersect found\n",
      "Common Interests    [https://www.facebook.com/democrats/?ref=br_rs...\n",
      "User 1                                                100000670838598\n",
      "User 2                                                               \n",
      "dtype: object\n",
      "Common Interests    [https://www.facebook.com/AmericanKennelClub/?...\n",
      "User 1                                                100000670838598\n",
      "User 2                                                     1235595588\n",
      "dtype: object\n",
      "Common Interests    [https://www.facebook.com/CBSNews/?ref=br_rs, ...\n",
      "User 1                                                100000670838598\n",
      "User 2                                                100009751844050\n",
      "dtype: object\n",
      "Common Interests    [https://www.facebook.com/YourDailyDish/?ref=b...\n",
      "User 1                                                100000670838598\n",
      "User 2                                                     1075832673\n",
      "dtype: object\n",
      "Common Interests    [https://www.facebook.com/NationInDistress/?re...\n",
      "User 1                                                100000670838598\n",
      "User 2                                                100009881200476\n",
      "dtype: object\n",
      "Common Interests    [https://www.facebook.com/democraticundergroun...\n",
      "User 1                                                100000670838598\n",
      "User 2                                                100006415140770\n",
      "dtype: object\n",
      "No intersect found\n",
      "No intersect found\n",
      "No intersect found\n",
      "No intersect found\n",
      "No intersect found\n",
      "No intersect found\n",
      "No intersect found\n",
      "No intersect found\n",
      "No intersect found\n",
      "No intersect found\n",
      "No intersect found\n",
      "No intersect found\n",
      "No intersect found\n",
      "No intersect found\n"
     ]
    },
    {
     "ename": "KeyboardInterrupt",
     "evalue": "",
     "output_type": "error",
     "traceback": [
      "\u001b[1;31m---------------------------------------------------------------------------\u001b[0m",
      "\u001b[1;31mKeyboardInterrupt\u001b[0m                         Traceback (most recent call last)",
      "\u001b[1;32m<ipython-input-38-1312f0f8233a>\u001b[0m in \u001b[0;36m<module>\u001b[1;34m()\u001b[0m\n\u001b[1;32m----> 1\u001b[1;33m \u001b[0mcommonDf\u001b[0m \u001b[1;33m=\u001b[0m \u001b[0mperform_intersection\u001b[0m\u001b[1;33m(\u001b[0m\u001b[0mdf\u001b[0m\u001b[1;33m[\u001b[0m\u001b[1;33m:\u001b[0m\u001b[1;36m20\u001b[0m\u001b[1;33m]\u001b[0m\u001b[1;33m,\u001b[0m \u001b[0mdriver\u001b[0m\u001b[1;33m)\u001b[0m\u001b[1;33m\u001b[0m\u001b[0m\n\u001b[0m",
      "\u001b[1;32m<ipython-input-36-efead177e3d0>\u001b[0m in \u001b[0;36mperform_intersection\u001b[1;34m(df, driver)\u001b[0m\n\u001b[0;32m     13\u001b[0m                     \u001b[1;32mbreak\u001b[0m\u001b[1;33m\u001b[0m\u001b[0m\n\u001b[0;32m     14\u001b[0m \u001b[1;33m\u001b[0m\u001b[0m\n\u001b[1;32m---> 15\u001b[1;33m                 \u001b[0mseries\u001b[0m\u001b[1;33m,\u001b[0m \u001b[0memptyNo\u001b[0m \u001b[1;33m=\u001b[0m \u001b[0mscrape_intersection\u001b[0m\u001b[1;33m(\u001b[0m\u001b[0mdriver\u001b[0m\u001b[1;33m,\u001b[0m \u001b[0mrow\u001b[0m\u001b[1;33m[\u001b[0m\u001b[1;34m'ProfileID'\u001b[0m\u001b[1;33m]\u001b[0m\u001b[1;33m,\u001b[0m \u001b[0motherrow\u001b[0m\u001b[1;33m[\u001b[0m\u001b[1;34m'ProfileID'\u001b[0m\u001b[1;33m]\u001b[0m\u001b[1;33m,\u001b[0m \u001b[0memptyNo\u001b[0m\u001b[1;33m)\u001b[0m\u001b[1;33m\u001b[0m\u001b[0m\n\u001b[0m\u001b[0;32m     16\u001b[0m \u001b[1;33m\u001b[0m\u001b[0m\n\u001b[0;32m     17\u001b[0m                 \u001b[0mretDf\u001b[0m \u001b[1;33m=\u001b[0m \u001b[0mretDf\u001b[0m\u001b[1;33m.\u001b[0m\u001b[0mappend\u001b[0m\u001b[1;33m(\u001b[0m\u001b[0mseries\u001b[0m\u001b[1;33m,\u001b[0m \u001b[0mignore_index\u001b[0m\u001b[1;33m=\u001b[0m\u001b[1;32mTrue\u001b[0m\u001b[1;33m)\u001b[0m\u001b[1;33m\u001b[0m\u001b[0m\n",
      "\u001b[1;32m<ipython-input-21-0cb98e906270>\u001b[0m in \u001b[0;36mscrape_intersection\u001b[1;34m(driver, user1, user2, emptyNo)\u001b[0m\n\u001b[0;32m     10\u001b[0m         \u001b[0mprint\u001b[0m\u001b[1;33m(\u001b[0m\u001b[1;34m\"Too much time\"\u001b[0m\u001b[1;33m)\u001b[0m\u001b[1;33m\u001b[0m\u001b[0m\n\u001b[0;32m     11\u001b[0m \u001b[1;33m\u001b[0m\u001b[0m\n\u001b[1;32m---> 12\u001b[1;33m     \u001b[0mtime\u001b[0m\u001b[1;33m.\u001b[0m\u001b[0msleep\u001b[0m\u001b[1;33m(\u001b[0m\u001b[1;36m3\u001b[0m\u001b[1;33m)\u001b[0m\u001b[1;33m\u001b[0m\u001b[0m\n\u001b[0m\u001b[0;32m     13\u001b[0m \u001b[1;33m\u001b[0m\u001b[0m\n\u001b[0;32m     14\u001b[0m     \u001b[0mhtml\u001b[0m \u001b[1;33m=\u001b[0m \u001b[0mdriver\u001b[0m\u001b[1;33m.\u001b[0m\u001b[0mpage_source\u001b[0m\u001b[1;33m\u001b[0m\u001b[0m\n",
      "\u001b[1;31mKeyboardInterrupt\u001b[0m: "
     ]
    }
   ],
   "source": [
    "commonDf = perform_intersection(df[:20], driver)"
   ]
  },
  {
   "cell_type": "code",
   "execution_count": 30,
   "metadata": {},
   "outputs": [
    {
     "data": {
      "text/html": [
       "<div>\n",
       "<style scoped>\n",
       "    .dataframe tbody tr th:only-of-type {\n",
       "        vertical-align: middle;\n",
       "    }\n",
       "\n",
       "    .dataframe tbody tr th {\n",
       "        vertical-align: top;\n",
       "    }\n",
       "\n",
       "    .dataframe thead th {\n",
       "        text-align: right;\n",
       "    }\n",
       "</style>\n",
       "<table border=\"1\" class=\"dataframe\">\n",
       "  <thead>\n",
       "    <tr style=\"text-align: right;\">\n",
       "      <th></th>\n",
       "      <th>User 1</th>\n",
       "      <th>User 2</th>\n",
       "      <th>Common Interests</th>\n",
       "    </tr>\n",
       "  </thead>\n",
       "  <tbody>\n",
       "  </tbody>\n",
       "</table>\n",
       "</div>"
      ],
      "text/plain": [
       "Empty DataFrame\n",
       "Columns: [User 1, User 2, Common Interests]\n",
       "Index: []"
      ]
     },
     "execution_count": 30,
     "metadata": {},
     "output_type": "execute_result"
    }
   ],
   "source": [
    "commonDf"
   ]
  },
  {
   "cell_type": "code",
   "execution_count": null,
   "metadata": {},
   "outputs": [],
   "source": []
  }
 ],
 "metadata": {
  "kernelspec": {
   "display_name": "Python 3",
   "language": "python",
   "name": "python3"
  },
  "language_info": {
   "codemirror_mode": {
    "name": "ipython",
    "version": 3
   },
   "file_extension": ".py",
   "mimetype": "text/x-python",
   "name": "python",
   "nbconvert_exporter": "python",
   "pygments_lexer": "ipython3",
   "version": "3.6.4"
  }
 },
 "nbformat": 4,
 "nbformat_minor": 2
}
